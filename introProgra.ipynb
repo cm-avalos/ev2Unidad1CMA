{
  "nbformat": 4,
  "nbformat_minor": 0,
  "metadata": {
    "colab": {
      "provenance": [],
      "include_colab_link": true
    },
    "kernelspec": {
      "name": "python3",
      "display_name": "Python 3"
    },
    "language_info": {
      "name": "python"
    }
  },
  "cells": [
    {
      "cell_type": "markdown",
      "metadata": {
        "id": "view-in-github",
        "colab_type": "text"
      },
      "source": [
        "<a href=\"https://colab.research.google.com/github/cm-avalos/ev2Unidad1CMA/blob/master/introProgra.ipynb\" target=\"_parent\"><img src=\"https://colab.research.google.com/assets/colab-badge.svg\" alt=\"Open In Colab\"/></a>"
      ]
    },
    {
      "cell_type": "markdown",
      "metadata": {
        "id": "_IQwi2ir2lMR"
      },
      "source": [
        "Usted tiene una clinica veterinaria y debe realizar un registro de las mascotas que tiene actualmente. Debe ingresar por teclado la cantidad de mascotas que usted tiene para luego solicitar el nombre y tipo de mascota de cada una de ellas. El tipo de mascota puede ser perro, gato u otro. Una vez creado el registro debe mostrarlo para luego contabilizar cuantas mascotas son perros, cuantos son gatos y cuantas no son ni perros ni gatos. Para dar cumplimiento a este ejercicio debe utilizar Tuplas."
      ]
    },
    {
      "cell_type": "code",
      "metadata": {
        "id": "BV9h4Cka0LAk"
      },
      "source": [
        "\n",
        "n_mascotas = int(input(\"Ingrese numero de mascotas: \"))\n",
        "mascotas = ()\n",
        "for x in range(n_mascotas):\n",
        "  nombre = input(\"Ingrese nombre de su mascota: \")\n",
        "  tipo = input(\"Ingrese tipo de mascota: \")\n",
        "  mascotas += ((nombre,tipo),)\n",
        "print(mascotas)\n",
        "\n",
        "perros = 0\n",
        "gatos = 0\n",
        "otros = 0\n",
        "for x in mascotas:\n",
        "  if x[1] == \"perro\":\n",
        "    perros += 1\n",
        "  elif x[1] == \"gato\":\n",
        "    gatos += 1\n",
        "  elif x[1] == \"otro\":\n",
        "    otros += 1\n",
        "\n",
        "print(f\"El numero de perros es: {perros}\")\n",
        "print(f\"El numero de gatos es: {gatos}\")\n",
        "print(f\"El numero de otras mascotas es: {otros}\")"
      ],
      "execution_count": null,
      "outputs": []
    },
    {
      "cell_type": "markdown",
      "metadata": {
        "id": "XxJobEkn4lP0"
      },
      "source": [
        "Se le ha enconmendado la tarea de desarrollar un programa que entregue el promedio de dos notas para cada uno de los estudiantes de su curso. Para ello debe contar con 3 listas, la primera debe almacenar el nombre de los estudiantes, la segunda lista debe guardar la nota de la primera evaluacion y la tercera lista la nota de la segunda evaluacion. Usted desconoce el numero de alumnos, por lo cual debe repetir la accion siempre y cuando el usuario desee ingresar otro registro. Una vez armadas las tres listas debe mostrarlas. A continuacion debe calcular el promedio de la nota 1 y la nota 2 por cada estudiante y guardarlo en una cuarta lista. Luego de crear la lista de promedios debe ordenar las 4 listas, tomando como referencia el promedio. (Adaptar ordenamiento Burbuja). Finalmente muestre las 4 listas."
      ]
    },
    {
      "cell_type": "code",
      "metadata": {
        "id": "-fcyzsLh4lnb"
      },
      "source": [
        "def ordenamientoBurbuja(unaLista,otraLista,otraListaMas,otraMas):\n",
        "    for numPasada in range(len(unaLista)-1,0,-1):\n",
        "        for i in range(numPasada):\n",
        "            if unaLista[i]>unaLista[i+1]:\n",
        "                temp = unaLista[i]\n",
        "                unaLista[i] = unaLista[i+1]\n",
        "                unaLista[i+1] = temp\n",
        "\n",
        "                temp = otraLista[i]\n",
        "                otraLista[i] = otraLista[i+1]\n",
        "                otraLista[i+1] = temp\n",
        "\n",
        "                temp = otraListaMas[i]\n",
        "                otraListaMas[i] = otraListaMas[i+1]\n",
        "                otraListaMas[i+1] = temp\n",
        "\n",
        "                temp = otraMas[i]\n",
        "                otraMas[i] = otraMas[i+1]\n",
        "                otraMas[i+1] = temp\n",
        "alumnos = []\n",
        "notas1 = []\n",
        "notas2 = []\n",
        "while True:\n",
        "  nombre = input(\"Ingrese nombre del alumno: \")\n",
        "  nota1 = float(input(f\"Ingrese nota 1 de {nombre}: \"))\n",
        "  nota2 = float(input(f\"Ingrese nota 2 de {nombre}: \"))\n",
        "  alumnos.append(nombre)\n",
        "  notas1.append(nota1)\n",
        "  notas2.append(nota2)\n",
        "\n",
        "  opcion = input(\"Desea ingresar otro alumno? s/n: \")\n",
        "  if opcion == 'n':\n",
        "    break\n",
        "\n",
        "print(alumnos)\n",
        "print(notas1)\n",
        "print(notas2)\n",
        "\n",
        "promedios = []\n",
        "for x in range(len(alumnos)):\n",
        "  promedio = (notas1[x] + notas2[x])/2\n",
        "  promedios.append(promedio)\n",
        "\n",
        "ordenamientoBurbuja(promedios,alumnos,notas1,notas2)\n",
        "\n",
        "print(alumnos)\n",
        "print(notas1)\n",
        "print(notas2)\n",
        "print(promedios)"
      ],
      "execution_count": null,
      "outputs": []
    },
    {
      "cell_type": "markdown",
      "metadata": {
        "id": "FMoeFZuKO_BY"
      },
      "source": [
        "Un almacen necesita una aplicacion que permita buscar un producto en base a un codigo para luego calcular el total de la venta. Para ello debe pedir la cantidad de productos a registrar. Por cada producto debe solicitar el codigo, nombre y precio del mismo (crear un diccionario cuya clave sea el codigo). Posterior a ello debe repetir de manera infinita lo siguiente: Solicitar el\n",
        "\n",
        "1.   Solicitar el codigo del producto a comprar\n",
        "2.   Si el producto existe debe preguntar la cantidad a comprar\n",
        "3.   Calcular el total de compra\n",
        "4.   Mostrar el producto que se vendio y el total vendido\n",
        "5.   En caso de que el punto 2 no ocurra, es decir que el codigo del producto no exista, debe indicar esto al usuario.\n"
      ]
    },
    {
      "cell_type": "code",
      "metadata": {
        "id": "chrg0O0bLriZ"
      },
      "source": [
        "cantidad_productos = int(input(\"Ingrese cantidad de productos a registrar: \"))\n",
        "productos = {}\n",
        "for x in range(cantidad_productos):\n",
        "  codigo = input(\"Ingrese codigo producto: \")\n",
        "  nombre = input(\"Ingrese nombre del producto: \")\n",
        "  precio = int(input(\"Ingrese precio del producto: \"))\n",
        "  productos[codigo] = [nombre,precio]\n",
        "\n",
        "while True:\n",
        "  codigo = input(\"Ingrese codigo del producto a comprar: \")\n",
        "  if codigo in productos.keys():\n",
        "    cantidad = int(input(\"Ingrese cantidad a comprar: \"))\n",
        "    total = productos[codigo][1] * cantidad\n",
        "    print(f\"Producto: {productos[codigo][0]} Total: {total}\")\n",
        "  else:\n",
        "    print(\"El codigo no existe\")"
      ],
      "execution_count": null,
      "outputs": []
    }
  ]
}